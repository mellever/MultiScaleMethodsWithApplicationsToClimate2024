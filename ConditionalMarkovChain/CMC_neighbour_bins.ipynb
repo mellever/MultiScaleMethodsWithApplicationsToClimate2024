{
 "cells": [
  {
   "cell_type": "code",
   "execution_count": 6,
   "metadata": {},
   "outputs": [],
   "source": [
    "import numpy as np\n",
    "import matplotlib.pyplot as plt\n",
    "from scipy.stats import kstest"
   ]
  },
  {
   "cell_type": "code",
   "execution_count": 13,
   "metadata": {},
   "outputs": [],
   "source": [
    "# Dictionary to store reduced model solutions in\n",
    "X_CMC_dict ={}"
   ]
  },
  {
   "cell_type": "markdown",
   "metadata": {},
   "source": [
    "Parameters"
   ]
  },
  {
   "cell_type": "code",
   "execution_count": 7,
   "metadata": {},
   "outputs": [],
   "source": [
    "eps = 0.5\n",
    "K = 18  \n",
    "J = 20\n",
    "F = 10\n",
    "hx = -1\n",
    "hy = 1\n",
    "dt = 10**-3\n",
    "T_end = 10**3"
   ]
  },
  {
   "cell_type": "markdown",
   "metadata": {},
   "source": [
    "### Integrate full L96 model"
   ]
  },
  {
   "cell_type": "markdown",
   "metadata": {},
   "source": [
    "Uniform random initialization of X and Y"
   ]
  },
  {
   "cell_type": "code",
   "execution_count": 8,
   "metadata": {},
   "outputs": [],
   "source": [
    "np.random.seed(0)\n",
    "X_0 = 1-2*np.random.rand(K)\n",
    "Y_0 = 1-2*np.random.rand(K,J)"
   ]
  },
  {
   "cell_type": "markdown",
   "metadata": {},
   "source": [
    "RHS of X equation"
   ]
  },
  {
   "cell_type": "code",
   "execution_count": 9,
   "metadata": {},
   "outputs": [],
   "source": [
    "def f(X,Y):\n",
    "    B = hx*np.mean(Y, axis=1)\n",
    "    dX = np.roll(X, 1)*(np.roll(X, -1) - np.roll(X, 2)) - X + F*np.ones(K) + B\n",
    "    return dX"
   ]
  },
  {
   "cell_type": "markdown",
   "metadata": {},
   "source": [
    "RHS of Y equation"
   ]
  },
  {
   "cell_type": "code",
   "execution_count": 10,
   "metadata": {},
   "outputs": [],
   "source": [
    "def g(X,Y):\n",
    "    dY = np.roll(Y,-1)*(np.roll(Y, 1) - np.roll(Y, -2)) - Y + hy*np.tile(X.reshape((K,1)), (1,J))\n",
    "    dY *= 1/eps\n",
    "    return dY"
   ]
  },
  {
   "cell_type": "markdown",
   "metadata": {},
   "source": [
    "Integrate with RK-2 method"
   ]
  },
  {
   "cell_type": "code",
   "execution_count": 11,
   "metadata": {},
   "outputs": [],
   "source": [
    "def RK_2(X_0, Y_0, N):\n",
    "    X = np.zeros((K, N))\n",
    "    Y = np.zeros((K, J, N))\n",
    "    \n",
    "    X[:,0] = X_0\n",
    "    Y[:,:,0] = Y_0\n",
    "\n",
    "    for n in range(1,N):\n",
    "        # # Runge-Kutta 2 integration\n",
    "        k1_X = dt * f(X[:,n-1], Y[:,:,n-1])\n",
    "        k1_Y = dt * g(X[:,n-1], Y[:,:,n-1])\n",
    "        \n",
    "        k2_X = dt * f(X[:,n-1] + k1_X, Y[:,:,n-1] + k1_Y)\n",
    "        k2_Y = dt * g(X[:,n-1] + k1_X, Y[:,:,n-1] + k1_Y)\n",
    "        \n",
    "        X[:,n] = X[:,n-1] + 0.5 * (k1_X + k2_X)\n",
    "        Y[:,:,n] = Y[:,:,n-1] + 0.5 * (k1_Y + k2_Y)\n",
    "    \n",
    "    return X, Y\n"
   ]
  },
  {
   "cell_type": "code",
   "execution_count": 12,
   "metadata": {},
   "outputs": [],
   "source": [
    "t_array = np.arange(0, T_end+dt, dt)\n",
    "X_full, Y_full = RK_2(X_0, Y_0, len(t_array))"
   ]
  },
  {
   "cell_type": "markdown",
   "metadata": {},
   "source": [
    "Save the outcomes with time resolution $Dt$ separately"
   ]
  },
  {
   "cell_type": "markdown",
   "metadata": {},
   "source": [
    "### Create reduced model"
   ]
  },
  {
   "cell_type": "code",
   "execution_count": 14,
   "metadata": {},
   "outputs": [],
   "source": [
    "Dt = 10**-2\n",
    "stepsize = int(Dt/dt)\n",
    "X_full_coarse = X_full[:,::stepsize]\n",
    "Y_full_coarse = Y_full[:,:,::stepsize]\n",
    "B_full_coarse = hx*np.mean(Y_full_coarse, axis=1)"
   ]
  },
  {
   "cell_type": "markdown",
   "metadata": {},
   "source": [
    "Create bins $I_{i}$ for $X_{k}$ "
   ]
  },
  {
   "cell_type": "code",
   "execution_count": 15,
   "metadata": {},
   "outputs": [
    {
     "data": {
      "text/plain": [
       "array([-4.5, -3.5, -2.5, -1.5, -0.5,  0.5,  1.5,  2.5,  3.5,  4.5,  5.5,\n",
       "        6.5,  7.5,  8.5,  9.5])"
      ]
     },
     "execution_count": 15,
     "metadata": {},
     "output_type": "execute_result"
    }
   ],
   "source": [
    "N_bins_X = 16\n",
    "X_bin_edges = np.linspace(-4.5, 9.5, N_bins_X-1)\n",
    "X_bin_edges"
   ]
  },
  {
   "cell_type": "markdown",
   "metadata": {},
   "source": [
    "Create bins $\\mathcal{J}_{i,j,m}^{n}$ for $B_k$ and compute bin means"
   ]
  },
  {
   "cell_type": "code",
   "execution_count": 16,
   "metadata": {},
   "outputs": [],
   "source": [
    "N_bins_B = 4\n",
    "B_bins_edges = np.zeros((N_bins_X, N_bins_B-1))\n",
    "\n",
    "X_coarse_flattened_bins = np.digitize(X_full_coarse.flatten(), X_bin_edges)\n",
    "\n",
    "for n in range(N_bins_X):\n",
    "    X_bin_index = np.where(X_coarse_flattened_bins == n)\n",
    "    B_coarse_flattened_bin = B_full_coarse.flatten()[X_bin_index]\n",
    "    bins = np.quantile(B_coarse_flattened_bin, np.linspace(0, 1, N_bins_B + 1))\n",
    "    B_bins_edges[n,:] = bins[1:-1]\n",
    "\n",
    "# Use bin means of original model in case of empty bins\n",
    "B_means = np.zeros((N_bins_X, N_bins_B))\n",
    "\n",
    "for n in range(N_bins_X):\n",
    "    B_n_bins_edges = B_bins_edges[n,:]\n",
    "    X_bin_index = np.where(X_coarse_flattened_bins == n)\n",
    "    B_coarse_flattened_bin = B_full_coarse.flatten()[X_bin_index]\n",
    "    B_k_bin_index = np.digitize(B_coarse_flattened_bin, B_n_bins_edges)\n",
    "    for j in range(N_bins_B):\n",
    "        B_k_bin_index_j = np.where(B_k_bin_index == j)\n",
    "        B_means[n,j] = np.mean(B_coarse_flattened_bin[B_k_bin_index_j])"
   ]
  },
  {
   "cell_type": "code",
   "execution_count": 17,
   "metadata": {},
   "outputs": [],
   "source": [
    "B_bins_edges_ngh = np.zeros((N_bins_X, N_bins_X, N_bins_X, N_bins_B-1))\n",
    "B_means_ngh = np.zeros((N_bins_X, N_bins_X, N_bins_X, N_bins_B))\n",
    "\n",
    "for n in range(N_bins_X):\n",
    "    for m in range(N_bins_X):\n",
    "        for l in range(N_bins_X):\n",
    "            \n",
    "            B_coarse_bin = np.array([])\n",
    "            for k in range(K):\n",
    "                X_k_coarse_bins = np.digitize(X_full_coarse[k,:], X_bin_edges)\n",
    "                X_k_min_1_coarse_bins = np.digitize(np.roll(X_full_coarse, 1 ,axis=0)[k,:], X_bin_edges)\n",
    "                X_k_plus_1_coars_bins = np.digitize(np.roll(X_full_coarse, -1 ,axis=0)[k,:], X_bin_edges)\n",
    "                X_bin_index = np.where(\n",
    "                    (X_k_coarse_bins == n) & \n",
    "                    (X_k_min_1_coarse_bins == m) & \n",
    "                    (X_k_plus_1_coars_bins == l)\n",
    "                )\n",
    "                B_coarse_bin = np.append(B_coarse_bin, B_full_coarse[k, X_bin_index])\n",
    "              \n",
    "            if len(B_coarse_bin) > 0:   \n",
    "                bins = np.quantile(B_coarse_bin, np.linspace(0, 1, N_bins_B + 1))\n",
    "                B_bins_edges_ngh[n,m,l,:] = bins[1:-1]\n",
    "                B_k_bin_index = np.digitize(B_coarse_bin, B_bins_edges_ngh[n,m,l,:])\n",
    "                for B_bin in range(N_bins_B):\n",
    "                    if len(B_coarse_bin[B_k_bin_index == B_bin]) > 0:\n",
    "                        B_means_ngh[n,m,l,B_bin] = np.mean(B_coarse_bin[B_k_bin_index == B_bin])\n",
    "                    else:\n",
    "                        # use bin means of original model in case of empty bins\n",
    "                        B_means_ngh[n,m,l,B_bin] = B_means[n,B_bin]\n",
    "            else:\n",
    "                # use bin means of original model in case of empty bins\n",
    "                B_means_ngh[n,m,l,:] = B_means[n,:]\n",
    "                    "
   ]
  },
  {
   "cell_type": "markdown",
   "metadata": {},
   "source": [
    "Calculate transition matrices"
   ]
  },
  {
   "cell_type": "code",
   "execution_count": 18,
   "metadata": {},
   "outputs": [],
   "source": [
    "T = np.zeros((N_bins_X, N_bins_X, N_bins_X, N_bins_B, N_bins_X, N_bins_X, N_bins_X, N_bins_B))\n",
    "\n",
    "for k in range(K):\n",
    "    X_k_coarse_bins = np.digitize(X_full_coarse[k,:], X_bin_edges)\n",
    "    X_k_min_1_coarse_bins = np.digitize(np.roll(X_full_coarse, 1 ,axis=0)[k,:], X_bin_edges)\n",
    "    X_k_plus_1_coars_bins = np.digitize(np.roll(X_full_coarse, -1 ,axis=0)[k,:], X_bin_edges)\n",
    "    for n in range(len(X_k_coarse_bins)-1):\n",
    "        X_k_n_bin = X_k_coarse_bins[n]\n",
    "        X_k_n_min_1_bin = X_k_min_1_coarse_bins[n] \n",
    "        X_k_n_plus_1_bin = X_k_plus_1_coars_bins[n]\n",
    "\n",
    "        B_k_n = B_full_coarse[k, n]\n",
    "        B_k_n_bin = np.digitize(\n",
    "            B_k_n, \n",
    "            B_bins_edges_ngh[\n",
    "                X_k_n_bin,\n",
    "                X_k_n_min_1_bin,\n",
    "                X_k_n_plus_1_bin,\n",
    "                :\n",
    "                ]\n",
    "            )\n",
    "        \n",
    "        X_k_n_next_bin = X_k_coarse_bins[n+1]\n",
    "        X_k_n_min_1_next_bin = X_k_min_1_coarse_bins[n+1] \n",
    "        X_k_n_plus_1_next_bin = X_k_plus_1_coars_bins[n+1]\n",
    "\n",
    "        B_k_n_next = B_full_coarse[k, n+1]\n",
    "\n",
    "        B_k_n_next_bin = np.digitize(\n",
    "            B_k_n_next, \n",
    "            B_bins_edges_ngh[\n",
    "                X_k_n_next_bin,\n",
    "                X_k_n_min_1_next_bin,\n",
    "                X_k_n_plus_1_next_bin,\n",
    "                :\n",
    "                ]\n",
    "            )\n",
    "        T[\n",
    "            X_k_n_bin, \n",
    "            X_k_n_min_1_bin, \n",
    "            X_k_n_plus_1_bin, \n",
    "            B_k_n_bin, \n",
    "            X_k_n_next_bin, \n",
    "            X_k_n_min_1_next_bin, \n",
    "            X_k_n_plus_1_next_bin, \n",
    "            B_k_n_next_bin\n",
    "        ] += 1"
   ]
  },
  {
   "cell_type": "code",
   "execution_count": 19,
   "metadata": {},
   "outputs": [],
   "source": [
    "P = np.zeros((N_bins_X, N_bins_X, N_bins_X, N_bins_B, N_bins_X, N_bins_X, N_bins_X, N_bins_B))\n",
    "for i_1 in range(N_bins_X):\n",
    "    for i_2 in range(N_bins_X):\n",
    "        for i_3 in range(N_bins_X):\n",
    "            for n_1 in range(N_bins_B):\n",
    "                for i_4 in range(N_bins_X):\n",
    "                    for i_5 in range(N_bins_X):\n",
    "                        for i_6 in range(N_bins_X): \n",
    "                                if np.sum(T[i_1,i_2,i_3,n_1,i_4,i_5,i_6,:]) != 0:\n",
    "                                    for m in range(N_bins_B):\n",
    "                                        P[i_1,i_2,i_3,n_1,i_4,i_5,i_6,m] = T[i_1,i_2,i_3,n_1,i_4,i_5,i_6,m]/np.sum(T[i_1,i_2,i_3,n_1,i_4,i_5,i_6,:])\n",
    "                                else:\n",
    "                                    P[i_1,i_2,i_3,n_1,i_4,i_5,i_6,n_1] = 1"
   ]
  },
  {
   "cell_type": "markdown",
   "metadata": {},
   "source": [
    "Conditional Markov Chain integration"
   ]
  },
  {
   "cell_type": "code",
   "execution_count": 20,
   "metadata": {},
   "outputs": [],
   "source": [
    "def G(X,B):\n",
    "    dX = np.roll(X, 1)*(np.roll(X, -1) - np.roll(X, 2)) - X + F*np.ones(K) + B\n",
    "    return dX"
   ]
  },
  {
   "cell_type": "code",
   "execution_count": 24,
   "metadata": {},
   "outputs": [],
   "source": [
    "def CMC(X_0, B_0, N):\n",
    "    X = np.zeros((K, N))\n",
    "    B = np.zeros((K, N))\n",
    "    \n",
    "    X[:,0] = X_0\n",
    "    B[:,0] = B_0\n",
    "\n",
    "    no_data_count = 0\n",
    "    \n",
    "    for n in range(1,N):\n",
    "        X_bin_current = np.digitize(X[:,n-1], X_bin_edges)\n",
    "        X_min_1_bin_current = np.digitize(np.roll(X[:,n-1], 1), X_bin_edges)\n",
    "        X_plus_1_bin_current = np.digitize(np.roll(X[:,n-1], -1), X_bin_edges)\n",
    "        B_bin_current = [np.digitize(B[k,n-1], B_bins_edges_ngh[X_bin_current,X_min_1_bin_current, X_plus_1_bin_current,:][k,:]) for k in range(K)]\n",
    "\n",
    "        # Runge-Kutta 2 integration\n",
    "        k1 = Dt * G(X[:,n-1], B[:,n-1])\n",
    "        k2 = Dt * G(X[:,n-1] + k1, B[:,n-1])\n",
    "        X[:,n] = X[:,n-1] + 0.5*(k1+k2)\n",
    "\n",
    "        X_bin_next = np.digitize(X[:,n], X_bin_edges)\n",
    "        X_min_1_bin_next = np.digitize(np.roll(X[:,n], 1), X_bin_edges)\n",
    "        X_plus_1_bin_next = np.digitize(np.roll(X[:,n], -1), X_bin_edges)\n",
    "\n",
    "        B_bin_next = [\n",
    "            np.random.choice(\n",
    "                N_bins_B, \n",
    "                p=P[\n",
    "                    X_bin_current,\n",
    "                    X_min_1_bin_current,\n",
    "                    X_plus_1_bin_current, \n",
    "                    B_bin_current, \n",
    "                    X_bin_next, \n",
    "                    X_min_1_bin_next,\n",
    "                    X_plus_1_bin_next,\n",
    "                    :\n",
    "                ][k,:]\n",
    "            ) \n",
    "            for k in range(K)\n",
    "        ]\n",
    "        if np.any(T[\n",
    "                    X_bin_current,\n",
    "                    X_min_1_bin_current,\n",
    "                    X_plus_1_bin_current, \n",
    "                    B_bin_current, \n",
    "                    X_bin_next, \n",
    "                    X_min_1_bin_next,\n",
    "                    X_plus_1_bin_next,\n",
    "                    :\n",
    "                ] == 0):\n",
    "            no_data_count += sum(T[\n",
    "                    X_bin_current,\n",
    "                    X_min_1_bin_current,\n",
    "                    X_plus_1_bin_current, \n",
    "                    B_bin_current, \n",
    "                    X_bin_next, \n",
    "                    X_min_1_bin_next,\n",
    "                    X_plus_1_bin_next,\n",
    "                    :\n",
    "                ] == 0)\n",
    "        B[:,n] = B_means_ngh[X_bin_next, X_min_1_bin_next, X_plus_1_bin_next, B_bin_next]\n",
    "    return X, no_data_count"
   ]
  },
  {
   "cell_type": "code",
   "execution_count": 25,
   "metadata": {},
   "outputs": [],
   "source": [
    "t_array_CMC = np.arange(0, T_end+Dt, Dt)\n",
    "B_0 = hx*np.mean(Y_0, axis=1)\n",
    "X_CMC_dict[N_bins_X], no_data_count = CMC(X_0, B_0, len(t_array_CMC))"
   ]
  },
  {
   "cell_type": "code",
   "execution_count": 27,
   "metadata": {},
   "outputs": [
    {
     "data": {
      "text/plain": [
       "0.5241379530649138"
      ]
     },
     "execution_count": 27,
     "metadata": {},
     "output_type": "execute_result"
    }
   ],
   "source": [
    "np.mean(no_data_count)/(K*len(t_array_CMC))"
   ]
  },
  {
   "cell_type": "markdown",
   "metadata": {},
   "source": [
    "Plotting of pdf's"
   ]
  },
  {
   "cell_type": "code",
   "execution_count": 161,
   "metadata": {},
   "outputs": [
    {
     "data": {
      "image/png": "[encoded data removed]",
      "text/plain": [
       "<Figure size 640x480 with 1 Axes>"
      ]
     },
     "metadata": {},
     "output_type": "display_data"
    }
   ],
   "source": [
    "N_bins_X = 8\n",
    "# Calculate the pdf\n",
    "hist_full, bins_full = np.histogram(X_full.flatten(), bins=50, density=True)\n",
    "bin_centers_full = (bins_full[:-1] + bins_full[1:]) / 2\n",
    "pdf_full = hist_full \n",
    "plt.plot(bin_centers_full, pdf_full, label='Full model')\n",
    "\n",
    "#Plot the pdf's\n",
    "for n in [-2]:\n",
    "    hist_CMC, bins_CMC = np.histogram(X_CMC_dict[N_bins_X].flatten(), bins=50, density=True)\n",
    "    bin_centers_CMC = (bins_CMC[:-1] + bins_CMC[1:]) / 2\n",
    "    pdf_CMC = hist_CMC \n",
    "    plt.plot(bin_centers_CMC, pdf_CMC, label=rf'CMC model', linestyle='dashed')\n",
    "\n",
    "plt.xlabel('$X_{k}$')\n",
    "plt.title(rf'pdfs of $X_k$ with $N_X={N_bins_X}$')\n",
    "plt.ylabel('Probability density')\n",
    "plt.legend()\n",
    "plt.savefig(f\"pdfs_neighbour_bins_{N_bins_X}.jpg\", format=\"jpg\", dpi=500)\n",
    "plt.show()"
   ]
  },
  {
   "cell_type": "markdown",
   "metadata": {},
   "source": [
    "Compute KS statistics"
   ]
  },
  {
   "cell_type": "code",
   "execution_count": 2,
   "metadata": {},
   "outputs": [],
   "source": [
    "# for n in [-4, -6, -8, -10, -12]:\n",
    "ks_stat, p_value = kstest(rvs=X_full.flatten(), cdf=X_CMC_dict[N_bins_X].flatten())\n",
    "# Print the results\n",
    "print(f\"delta_t:\",n)\n",
    "print(\"KS statistic:\", ks_stat)\n",
    "print(\"p-value:\", p_value)"
   ]
  },
  {
   "cell_type": "code",
   "execution_count": null,
   "metadata": {},
   "outputs": [],
   "source": []
  }
 ],
 "metadata": {
  "kernelspec": {
   "display_name": "Python 3",
   "language": "python",
   "name": "python3"
  },
  "language_info": {
   "codemirror_mode": {
    "name": "ipython",
    "version": 3
   },
   "file_extension": ".py",
   "mimetype": "text/x-python",
   "name": "python",
   "nbconvert_exporter": "python",
   "pygments_lexer": "ipython3",
   "version": "3.12.2"
  }
 },
 "nbformat": 4,
 "nbformat_minor": 2
}
